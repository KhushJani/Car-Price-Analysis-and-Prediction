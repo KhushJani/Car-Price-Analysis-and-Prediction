{
  "nbformat": 4,
  "nbformat_minor": 0,
  "metadata": {
    "colab": {
      "provenance": [],
      "collapsed_sections": []
    },
    "kernelspec": {
      "name": "python3",
      "display_name": "Python 3"
    },
    "language_info": {
      "name": "python"
    }
  },
  "cells": [
    {
      "cell_type": "markdown",
      "source": [
        "##DATA PROFILING"
      ],
      "metadata": {
        "id": "a4YhxvTY9eQ7"
      }
    },
    {
      "cell_type": "code",
      "execution_count": 3,
      "metadata": {
        "id": "up_6oQV76Xlw"
      },
      "outputs": [],
      "source": [
        "#Importing Data\n",
        "import pandas as pd\n",
        "#pd.set_option('display.max_columns',None)\n"
      ]
    },
    {
      "cell_type": "code",
      "source": [
        "from google.colab import files\n",
        "\n",
        "uploaded = files.upload()"
      ],
      "metadata": {
        "colab": {
          "base_uri": "https://localhost:8080/",
          "height": 75
        },
        "id": "EPZKs_WH7Agt",
        "outputId": "ac9f7b39-dd09-4f3b-b701-d76968d22b3f"
      },
      "execution_count": 2,
      "outputs": [
        {
          "output_type": "display_data",
          "data": {
            "text/plain": [
              "<IPython.core.display.HTML object>"
            ],
            "text/html": [
              "\n",
              "     <input type=\"file\" id=\"files-70d1e47c-2f0f-4ebc-9ffc-a81330262ebe\" name=\"files[]\" multiple disabled\n",
              "        style=\"border:none\" />\n",
              "     <output id=\"result-70d1e47c-2f0f-4ebc-9ffc-a81330262ebe\">\n",
              "      Upload widget is only available when the cell has been executed in the\n",
              "      current browser session. Please rerun this cell to enable.\n",
              "      </output>\n",
              "      <script>// Copyright 2017 Google LLC\n",
              "//\n",
              "// Licensed under the Apache License, Version 2.0 (the \"License\");\n",
              "// you may not use this file except in compliance with the License.\n",
              "// You may obtain a copy of the License at\n",
              "//\n",
              "//      http://www.apache.org/licenses/LICENSE-2.0\n",
              "//\n",
              "// Unless required by applicable law or agreed to in writing, software\n",
              "// distributed under the License is distributed on an \"AS IS\" BASIS,\n",
              "// WITHOUT WARRANTIES OR CONDITIONS OF ANY KIND, either express or implied.\n",
              "// See the License for the specific language governing permissions and\n",
              "// limitations under the License.\n",
              "\n",
              "/**\n",
              " * @fileoverview Helpers for google.colab Python module.\n",
              " */\n",
              "(function(scope) {\n",
              "function span(text, styleAttributes = {}) {\n",
              "  const element = document.createElement('span');\n",
              "  element.textContent = text;\n",
              "  for (const key of Object.keys(styleAttributes)) {\n",
              "    element.style[key] = styleAttributes[key];\n",
              "  }\n",
              "  return element;\n",
              "}\n",
              "\n",
              "// Max number of bytes which will be uploaded at a time.\n",
              "const MAX_PAYLOAD_SIZE = 100 * 1024;\n",
              "\n",
              "function _uploadFiles(inputId, outputId) {\n",
              "  const steps = uploadFilesStep(inputId, outputId);\n",
              "  const outputElement = document.getElementById(outputId);\n",
              "  // Cache steps on the outputElement to make it available for the next call\n",
              "  // to uploadFilesContinue from Python.\n",
              "  outputElement.steps = steps;\n",
              "\n",
              "  return _uploadFilesContinue(outputId);\n",
              "}\n",
              "\n",
              "// This is roughly an async generator (not supported in the browser yet),\n",
              "// where there are multiple asynchronous steps and the Python side is going\n",
              "// to poll for completion of each step.\n",
              "// This uses a Promise to block the python side on completion of each step,\n",
              "// then passes the result of the previous step as the input to the next step.\n",
              "function _uploadFilesContinue(outputId) {\n",
              "  const outputElement = document.getElementById(outputId);\n",
              "  const steps = outputElement.steps;\n",
              "\n",
              "  const next = steps.next(outputElement.lastPromiseValue);\n",
              "  return Promise.resolve(next.value.promise).then((value) => {\n",
              "    // Cache the last promise value to make it available to the next\n",
              "    // step of the generator.\n",
              "    outputElement.lastPromiseValue = value;\n",
              "    return next.value.response;\n",
              "  });\n",
              "}\n",
              "\n",
              "/**\n",
              " * Generator function which is called between each async step of the upload\n",
              " * process.\n",
              " * @param {string} inputId Element ID of the input file picker element.\n",
              " * @param {string} outputId Element ID of the output display.\n",
              " * @return {!Iterable<!Object>} Iterable of next steps.\n",
              " */\n",
              "function* uploadFilesStep(inputId, outputId) {\n",
              "  const inputElement = document.getElementById(inputId);\n",
              "  inputElement.disabled = false;\n",
              "\n",
              "  const outputElement = document.getElementById(outputId);\n",
              "  outputElement.innerHTML = '';\n",
              "\n",
              "  const pickedPromise = new Promise((resolve) => {\n",
              "    inputElement.addEventListener('change', (e) => {\n",
              "      resolve(e.target.files);\n",
              "    });\n",
              "  });\n",
              "\n",
              "  const cancel = document.createElement('button');\n",
              "  inputElement.parentElement.appendChild(cancel);\n",
              "  cancel.textContent = 'Cancel upload';\n",
              "  const cancelPromise = new Promise((resolve) => {\n",
              "    cancel.onclick = () => {\n",
              "      resolve(null);\n",
              "    };\n",
              "  });\n",
              "\n",
              "  // Wait for the user to pick the files.\n",
              "  const files = yield {\n",
              "    promise: Promise.race([pickedPromise, cancelPromise]),\n",
              "    response: {\n",
              "      action: 'starting',\n",
              "    }\n",
              "  };\n",
              "\n",
              "  cancel.remove();\n",
              "\n",
              "  // Disable the input element since further picks are not allowed.\n",
              "  inputElement.disabled = true;\n",
              "\n",
              "  if (!files) {\n",
              "    return {\n",
              "      response: {\n",
              "        action: 'complete',\n",
              "      }\n",
              "    };\n",
              "  }\n",
              "\n",
              "  for (const file of files) {\n",
              "    const li = document.createElement('li');\n",
              "    li.append(span(file.name, {fontWeight: 'bold'}));\n",
              "    li.append(span(\n",
              "        `(${file.type || 'n/a'}) - ${file.size} bytes, ` +\n",
              "        `last modified: ${\n",
              "            file.lastModifiedDate ? file.lastModifiedDate.toLocaleDateString() :\n",
              "                                    'n/a'} - `));\n",
              "    const percent = span('0% done');\n",
              "    li.appendChild(percent);\n",
              "\n",
              "    outputElement.appendChild(li);\n",
              "\n",
              "    const fileDataPromise = new Promise((resolve) => {\n",
              "      const reader = new FileReader();\n",
              "      reader.onload = (e) => {\n",
              "        resolve(e.target.result);\n",
              "      };\n",
              "      reader.readAsArrayBuffer(file);\n",
              "    });\n",
              "    // Wait for the data to be ready.\n",
              "    let fileData = yield {\n",
              "      promise: fileDataPromise,\n",
              "      response: {\n",
              "        action: 'continue',\n",
              "      }\n",
              "    };\n",
              "\n",
              "    // Use a chunked sending to avoid message size limits. See b/62115660.\n",
              "    let position = 0;\n",
              "    do {\n",
              "      const length = Math.min(fileData.byteLength - position, MAX_PAYLOAD_SIZE);\n",
              "      const chunk = new Uint8Array(fileData, position, length);\n",
              "      position += length;\n",
              "\n",
              "      const base64 = btoa(String.fromCharCode.apply(null, chunk));\n",
              "      yield {\n",
              "        response: {\n",
              "          action: 'append',\n",
              "          file: file.name,\n",
              "          data: base64,\n",
              "        },\n",
              "      };\n",
              "\n",
              "      let percentDone = fileData.byteLength === 0 ?\n",
              "          100 :\n",
              "          Math.round((position / fileData.byteLength) * 100);\n",
              "      percent.textContent = `${percentDone}% done`;\n",
              "\n",
              "    } while (position < fileData.byteLength);\n",
              "  }\n",
              "\n",
              "  // All done.\n",
              "  yield {\n",
              "    response: {\n",
              "      action: 'complete',\n",
              "    }\n",
              "  };\n",
              "}\n",
              "\n",
              "scope.google = scope.google || {};\n",
              "scope.google.colab = scope.google.colab || {};\n",
              "scope.google.colab._files = {\n",
              "  _uploadFiles,\n",
              "  _uploadFilesContinue,\n",
              "};\n",
              "})(self);\n",
              "</script> "
            ]
          },
          "metadata": {}
        },
        {
          "output_type": "stream",
          "name": "stdout",
          "text": [
            "Saving data.csv to data.csv\n"
          ]
        }
      ]
    },
    {
      "cell_type": "code",
      "source": [
        "df = pd.read_csv('data.csv')"
      ],
      "metadata": {
        "id": "GPlI0jDl6-dM"
      },
      "execution_count": 4,
      "outputs": []
    },
    {
      "cell_type": "markdown",
      "source": [
        "##Showing The Length of The Data"
      ],
      "metadata": {
        "id": "Y1EEnQNT9vL2"
      }
    },
    {
      "cell_type": "code",
      "source": [
        "print(\"\\nThe Length of The Data: \", len(df))"
      ],
      "metadata": {
        "colab": {
          "base_uri": "https://localhost:8080/"
        },
        "id": "FEGrhizs7hZy",
        "outputId": "c3ac4047-72cf-4f1d-890e-0d83e91d9273"
      },
      "execution_count": 5,
      "outputs": [
        {
          "output_type": "stream",
          "name": "stdout",
          "text": [
            "\n",
            "The Length of The Data:  11914\n"
          ]
        }
      ]
    },
    {
      "cell_type": "markdown",
      "source": [
        "##Showing The Shape of The Data"
      ],
      "metadata": {
        "id": "k24EBlxv91Qs"
      }
    },
    {
      "cell_type": "code",
      "source": [
        "print(\"\\nThe Shape of The Data: \", df.shape)"
      ],
      "metadata": {
        "colab": {
          "base_uri": "https://localhost:8080/"
        },
        "id": "uAcY27tY7kEc",
        "outputId": "e2900b0b-4d42-4c54-f1b3-ac73f5fecbe2"
      },
      "execution_count": 57,
      "outputs": [
        {
          "output_type": "stream",
          "name": "stdout",
          "text": [
            "\n",
            "The Shape of The Data:  (10189, 865)\n"
          ]
        }
      ]
    },
    {
      "cell_type": "markdown",
      "source": [
        "##Showing The Information of The Data\n"
      ],
      "metadata": {
        "id": "lU6WROub97s3"
      }
    },
    {
      "cell_type": "code",
      "source": [
        "print(\"\\nThe Information of The Data: \")\n",
        "print(df.info())"
      ],
      "metadata": {
        "colab": {
          "base_uri": "https://localhost:8080/"
        },
        "id": "EGnY97557pFM",
        "outputId": "a25c73cf-520c-4562-a3af-cbc1beec4147"
      },
      "execution_count": 7,
      "outputs": [
        {
          "output_type": "stream",
          "name": "stdout",
          "text": [
            "\n",
            "The Information of The Data: \n",
            "<class 'pandas.core.frame.DataFrame'>\n",
            "RangeIndex: 11914 entries, 0 to 11913\n",
            "Data columns (total 16 columns):\n",
            " #   Column             Non-Null Count  Dtype  \n",
            "---  ------             --------------  -----  \n",
            " 0   Make               11914 non-null  object \n",
            " 1   Model              11914 non-null  object \n",
            " 2   Year               11914 non-null  int64  \n",
            " 3   Engine Fuel Type   11911 non-null  object \n",
            " 4   Engine HP          11845 non-null  float64\n",
            " 5   Engine Cylinders   11884 non-null  float64\n",
            " 6   Transmission Type  11914 non-null  object \n",
            " 7   Driven_Wheels      11914 non-null  object \n",
            " 8   Number of Doors    11908 non-null  float64\n",
            " 9   Market Category    8172 non-null   object \n",
            " 10  Vehicle Size       11914 non-null  object \n",
            " 11  Vehicle Style      11914 non-null  object \n",
            " 12  highway MPG        11914 non-null  int64  \n",
            " 13  city mpg           11914 non-null  int64  \n",
            " 14  Popularity         11914 non-null  int64  \n",
            " 15  MSRP               11914 non-null  int64  \n",
            "dtypes: float64(3), int64(5), object(8)\n",
            "memory usage: 1.5+ MB\n",
            "None\n"
          ]
        }
      ]
    },
    {
      "cell_type": "markdown",
      "source": [
        "##Showing The Statistical Calculations\n"
      ],
      "metadata": {
        "id": "-uScJp2z-CcU"
      }
    },
    {
      "cell_type": "code",
      "source": [
        "print(\"\\nThe The Statistical Calculations: \")\n",
        "print(df.describe().T)\n"
      ],
      "metadata": {
        "colab": {
          "base_uri": "https://localhost:8080/"
        },
        "id": "9k9IQjdf7rES",
        "outputId": "06617692-07d4-4b56-d2dd-2d34cdc89289"
      },
      "execution_count": 8,
      "outputs": [
        {
          "output_type": "stream",
          "name": "stdout",
          "text": [
            "\n",
            "The The Statistical Calculations: \n",
            "                    count          mean           std     min      25%  \\\n",
            "Year              11914.0   2010.384338      7.579740  1990.0   2007.0   \n",
            "Engine HP         11845.0    249.386070    109.191870    55.0    170.0   \n",
            "Engine Cylinders  11884.0      5.628829      1.780559     0.0      4.0   \n",
            "Number of Doors   11908.0      3.436093      0.881315     2.0      2.0   \n",
            "highway MPG       11914.0     26.637485      8.863001    12.0     22.0   \n",
            "city mpg          11914.0     19.733255      8.987798     7.0     16.0   \n",
            "Popularity        11914.0   1554.911197   1441.855347     2.0    549.0   \n",
            "MSRP              11914.0  40594.737032  60109.103604  2000.0  21000.0   \n",
            "\n",
            "                      50%       75%        max  \n",
            "Year               2015.0   2016.00     2017.0  \n",
            "Engine HP           227.0    300.00     1001.0  \n",
            "Engine Cylinders      6.0      6.00       16.0  \n",
            "Number of Doors       4.0      4.00        4.0  \n",
            "highway MPG          26.0     30.00      354.0  \n",
            "city mpg             18.0     22.00      137.0  \n",
            "Popularity         1385.0   2009.00     5657.0  \n",
            "MSRP              29995.0  42231.25  2065902.0  \n"
          ]
        }
      ]
    },
    {
      "cell_type": "markdown",
      "source": [
        "##Showing The Unique Data\n"
      ],
      "metadata": {
        "id": "kAZtCv6C-HA7"
      }
    },
    {
      "cell_type": "code",
      "source": [
        "print(\"\\nThe The Unique Data: \")\n",
        "print(df.nunique())"
      ],
      "metadata": {
        "colab": {
          "base_uri": "https://localhost:8080/"
        },
        "id": "Kb-aJX2w7tBo",
        "outputId": "bb772e72-1e61-45a6-9670-e9ead2a00753"
      },
      "execution_count": 9,
      "outputs": [
        {
          "output_type": "stream",
          "name": "stdout",
          "text": [
            "\n",
            "The The Unique Data: \n",
            "Make                   48\n",
            "Model                 915\n",
            "Year                   28\n",
            "Engine Fuel Type       10\n",
            "Engine HP             356\n",
            "Engine Cylinders        9\n",
            "Transmission Type       5\n",
            "Driven_Wheels           4\n",
            "Number of Doors         3\n",
            "Market Category        71\n",
            "Vehicle Size            3\n",
            "Vehicle Style          16\n",
            "highway MPG            59\n",
            "city mpg               69\n",
            "Popularity             48\n",
            "MSRP                 6049\n",
            "dtype: int64\n"
          ]
        }
      ]
    },
    {
      "cell_type": "markdown",
      "source": [
        "##Changing The Column's Name And The Column's Value\n"
      ],
      "metadata": {
        "id": "C6-R6TEQ-KZr"
      }
    },
    {
      "cell_type": "code",
      "source": [
        "kolom_string = list(df.dtypes[df.dtypes == 'object'].index)\n",
        "for col in kolom_string:\n",
        "    df[col] = df[col].str.lower().str.replace(' ', '_')\n"
      ],
      "metadata": {
        "id": "p0zXXsmH7uv-"
      },
      "execution_count": 10,
      "outputs": []
    },
    {
      "cell_type": "code",
      "source": [
        "df.rename(columns ={'MSRP': 'Price',\n",
        "                    'Make': 'Car Brand',\n",
        "                    'Engine HP': 'HP',\n",
        "                    'Driven_Wheels':'Driven Mode',\n",
        "                    'highway MPG':'KML-H',\n",
        "                    'city mpg':'KML-C'}, inplace=True)"
      ],
      "metadata": {
        "id": "pva1BoOr7yAV"
      },
      "execution_count": 11,
      "outputs": []
    },
    {
      "cell_type": "markdown",
      "source": [
        "##Looking For A Correlation\n"
      ],
      "metadata": {
        "id": "L_-Jmw0y-Qsx"
      }
    },
    {
      "cell_type": "code",
      "source": [
        "import numpy as np\n",
        "import seaborn as sns\n",
        "import matplotlib.pyplot as plt\n",
        "plt.figure(figsize=(17, 15))\n",
        "corr_mask = np.triu(df.corr())\n",
        "h_map = sns.heatmap(df.corr(), mask=corr_mask, annot=True, cmap='Blues')\n",
        "plt.yticks(rotation=360)\n",
        "plt.show()"
      ],
      "metadata": {
        "colab": {
          "base_uri": "https://localhost:8080/",
          "height": 863
        },
        "id": "wtpYFc1W70eA",
        "outputId": "8759aa59-2890-4464-ab2e-622300b75fdc"
      },
      "execution_count": 12,
      "outputs": [
        {
          "output_type": "display_data",
          "data": {
            "text/plain": [
              "<Figure size 1224x1080 with 2 Axes>"
            ],
            "image/png": "[encoded data removed]"
          },
          "metadata": {
            "needs_background": "light"
          }
        }
      ]
    },
    {
      "cell_type": "markdown",
      "source": [
        "##DATA CLEANSING\n"
      ],
      "metadata": {
        "id": "v7LVBRbH-TvJ"
      }
    },
    {
      "cell_type": "code",
      "source": [
        "#Create a function to remove the outliers\n",
        "def hapus_outliers(data, x):\n",
        "    Q1 = data[x].quantile(0.25)\n",
        "    Q3 = data[x].quantile(0.75)\n",
        "    IQR = Q3 - Q1\n",
        "    data = data[~((data[x] < (Q1 - 1.5 * IQR)) | (data[x] > (Q3 + 1.5 * IQR)))]\n",
        "    return data"
      ],
      "metadata": {
        "id": "WH2dECta724H"
      },
      "execution_count": 13,
      "outputs": []
    },
    {
      "cell_type": "code",
      "source": [
        "#Looking For The Missing Value in Each Column\n",
        "print(\"\\nLooking For The Missing Value in Each Column: \")\n",
        "print(df.isnull().sum())"
      ],
      "metadata": {
        "colab": {
          "base_uri": "https://localhost:8080/"
        },
        "id": "5xxloHrn76AZ",
        "outputId": "9272c0db-df85-4761-b81e-6ff53bba3416"
      },
      "execution_count": 14,
      "outputs": [
        {
          "output_type": "stream",
          "name": "stdout",
          "text": [
            "\n",
            "Looking For The Missing Value in Each Column: \n",
            "Car Brand               0\n",
            "Model                   0\n",
            "Year                    0\n",
            "Engine Fuel Type        3\n",
            "HP                     69\n",
            "Engine Cylinders       30\n",
            "Transmission Type       0\n",
            "Driven Mode             0\n",
            "Number of Doors         6\n",
            "Market Category      3742\n",
            "Vehicle Size            0\n",
            "Vehicle Style           0\n",
            "KML-H                   0\n",
            "KML-C                   0\n",
            "Popularity              0\n",
            "Price                   0\n",
            "dtype: int64\n"
          ]
        }
      ]
    },
    {
      "cell_type": "markdown",
      "source": [
        "##Removing Unnecessary Column\n"
      ],
      "metadata": {
        "id": "CWJwF5hK-XHM"
      }
    },
    {
      "cell_type": "code",
      "source": [
        "df = df.drop(['Popularity','Number of Doors','KML-H','KML-C','Market Category'], axis=1)"
      ],
      "metadata": {
        "id": "U7Jsi8y477tX"
      },
      "execution_count": 15,
      "outputs": []
    },
    {
      "cell_type": "code",
      "source": [
        "#Checking The Price Column\n",
        "print(\"\\nChecking The Price Column\")\n",
        "sns.histplot(df['Price'])\n",
        "plt.show()\n",
        "df = hapus_outliers(df, 'Price')\n",
        "print(\"\\nThe Amount of Missing Value in Each Column After Removing The Outliers in The Price Column:\")\n",
        "print(df.isnull().sum())\n",
        "print(\"\\nThe Shape of The Data After Removing The Outliers: \", df.shape)"
      ],
      "metadata": {
        "colab": {
          "base_uri": "https://localhost:8080/",
          "height": 606
        },
        "id": "8Hs3BrDt790-",
        "outputId": "92e23842-9f60-4baf-a916-0d286f94620c"
      },
      "execution_count": 16,
      "outputs": [
        {
          "output_type": "stream",
          "name": "stdout",
          "text": [
            "\n",
            "Checking The Price Column\n"
          ]
        },
        {
          "output_type": "display_data",
          "data": {
            "text/plain": [
              "<Figure size 432x288 with 1 Axes>"
            ],
            "image/png": "[encoded data removed]"
          },
          "metadata": {
            "needs_background": "light"
          }
        },
        {
          "output_type": "stream",
          "name": "stdout",
          "text": [
            "\n",
            "The Amount of Missing Value in Each Column After Removing The Outliers in The Price Column:\n",
            "Car Brand             0\n",
            "Model                 0\n",
            "Year                  0\n",
            "Engine Fuel Type      3\n",
            "HP                   56\n",
            "Engine Cylinders     30\n",
            "Transmission Type     0\n",
            "Driven Mode           0\n",
            "Vehicle Size          0\n",
            "Vehicle Style         0\n",
            "Price                 0\n",
            "dtype: int64\n",
            "\n",
            "The Shape of The Data After Removing The Outliers:  (10918, 11)\n"
          ]
        }
      ]
    },
    {
      "cell_type": "code",
      "source": [
        "#Checking The Car Brand Column\n",
        "print(\"\\nChecking The Car Brand Column\")\n",
        "sns.catplot(x='Car Brand', y='Price', data=df, height=5, aspect=2)\n",
        "plt.xticks(rotation=90)\n",
        "plt.show()\n"
      ],
      "metadata": {
        "colab": {
          "base_uri": "https://localhost:8080/",
          "height": 471
        },
        "id": "HD-5n1we8CZ9",
        "outputId": "879ff37c-216d-41f8-c055-80e98b714237"
      },
      "execution_count": 17,
      "outputs": [
        {
          "output_type": "stream",
          "name": "stdout",
          "text": [
            "\n",
            "Checking The Car Brand Column\n"
          ]
        },
        {
          "output_type": "display_data",
          "data": {
            "text/plain": [
              "<Figure size 720x360 with 1 Axes>"
            ],
            "image/png": "[encoded data removed]"
          },
          "metadata": {
            "needs_background": "light"
          }
        }
      ]
    },
    {
      "cell_type": "code",
      "source": [
        "#Checking The Year Column\n",
        "print(\"\\nChecking The Year Column\")\n",
        "sns.catplot(x='Year', y='Price', data=df, height=5, aspect=2)\n",
        "plt.xticks(rotation=90)\n",
        "plt.show()"
      ],
      "metadata": {
        "colab": {
          "base_uri": "https://localhost:8080/",
          "height": 421
        },
        "id": "ccsKwkqF8Ej6",
        "outputId": "ad97dcfb-9d9a-4b89-bfd5-17445821d85e"
      },
      "execution_count": 18,
      "outputs": [
        {
          "output_type": "stream",
          "name": "stdout",
          "text": [
            "\n",
            "Checking The Year Column\n"
          ]
        },
        {
          "output_type": "display_data",
          "data": {
            "text/plain": [
              "<Figure size 720x360 with 1 Axes>"
            ],
            "image/png": "[encoded data removed]"
          },
          "metadata": {
            "needs_background": "light"
          }
        }
      ]
    },
    {
      "cell_type": "code",
      "source": [
        "#Checking The Engine Fuel Type Column\n",
        "print(\"\\nChecking The Engine Fuel Type Column\")\n",
        "sns.catplot(x='Engine Fuel Type', y='Price', data=df, height=3, aspect=2)\n",
        "plt.xticks(rotation=90)\n",
        "plt.show()"
      ],
      "metadata": {
        "colab": {
          "base_uri": "https://localhost:8080/",
          "height": 500
        },
        "id": "GTn_oIwa8GV5",
        "outputId": "a53a8ae1-fe1a-43a3-9902-9962da323ce0"
      },
      "execution_count": 19,
      "outputs": [
        {
          "output_type": "stream",
          "name": "stdout",
          "text": [
            "\n",
            "Checking The Engine Fuel Type Column\n"
          ]
        },
        {
          "output_type": "display_data",
          "data": {
            "text/plain": [
              "<Figure size 432x216 with 1 Axes>"
            ],
            "image/png": "[encoded data removed]"
          },
          "metadata": {
            "needs_background": "light"
          }
        }
      ]
    },
    {
      "cell_type": "code",
      "source": [
        "print(\"\\nThe Data on The Engine Fuel Type Column That Has A Missing Value:\")\n",
        "print(df.loc[(df['Engine Fuel Type'].isnull())])\n",
        "df['Engine Fuel Type'] = df['Engine Fuel Type'].fillna('regular_unleaded')\n",
        "print(\"\\nThe Amount of Missing Value in Each Column After Handling Missing Value in The Engine Fuel Type Column: \")\n",
        "print(df.isnull().sum())"
      ],
      "metadata": {
        "colab": {
          "base_uri": "https://localhost:8080/"
        },
        "id": "fZ0uKc7e8KJX",
        "outputId": "d84cb41c-1cbb-4c10-a120-6c45a18f789d"
      },
      "execution_count": 20,
      "outputs": [
        {
          "output_type": "stream",
          "name": "stdout",
          "text": [
            "\n",
            "The Data on The Engine Fuel Type Column That Has A Missing Value:\n",
            "      Car Brand   Model  Year Engine Fuel Type     HP  Engine Cylinders  \\\n",
            "11321    suzuki  verona  2004              NaN  155.0               6.0   \n",
            "11322    suzuki  verona  2004              NaN  155.0               6.0   \n",
            "11323    suzuki  verona  2004              NaN  155.0               6.0   \n",
            "\n",
            "      Transmission Type        Driven Mode Vehicle Size Vehicle Style  Price  \n",
            "11321         automatic  front_wheel_drive      midsize         sedan  17199  \n",
            "11322         automatic  front_wheel_drive      midsize         sedan  20199  \n",
            "11323         automatic  front_wheel_drive      midsize         sedan  18499  \n",
            "\n",
            "The Amount of Missing Value in Each Column After Handling Missing Value in The Engine Fuel Type Column: \n",
            "Car Brand             0\n",
            "Model                 0\n",
            "Year                  0\n",
            "Engine Fuel Type      0\n",
            "HP                   56\n",
            "Engine Cylinders     30\n",
            "Transmission Type     0\n",
            "Driven Mode           0\n",
            "Vehicle Size          0\n",
            "Vehicle Style         0\n",
            "Price                 0\n",
            "dtype: int64\n"
          ]
        }
      ]
    },
    {
      "cell_type": "code",
      "source": [
        "#Checking The Engine Cylinders Column\n",
        "print(\"\\nChecking The Engine Cylinders Column\")\n",
        "sns.catplot(x='Engine Cylinders', y='Price', data=df, height=5, aspect=2)\n",
        "plt.show()"
      ],
      "metadata": {
        "colab": {
          "base_uri": "https://localhost:8080/",
          "height": 405
        },
        "id": "0yhI7jX08L2k",
        "outputId": "b31b2843-c3e5-4bc8-dbc3-7ee9fa15d7a4"
      },
      "execution_count": 21,
      "outputs": [
        {
          "output_type": "stream",
          "name": "stdout",
          "text": [
            "\n",
            "Checking The Engine Cylinders Column\n"
          ]
        },
        {
          "output_type": "display_data",
          "data": {
            "text/plain": [
              "<Figure size 720x360 with 1 Axes>"
            ],
            "image/png": "[encoded data removed]"
          },
          "metadata": {
            "needs_background": "light"
          }
        }
      ]
    },
    {
      "cell_type": "code",
      "source": [
        "print(\"\\nThe Data on The Engine Cylinders Column That Has A Missing Value:\")\n",
        "print(df.loc[(df['Engine Cylinders'].isnull())])\n",
        "df['Engine Cylinders'] = df['Engine Cylinders'].fillna(0)\n",
        "print(\"\\nThe Amount of Missing Value in Each Column After Handling Missing Value in The Engine Cylinders Column:\")\n",
        "print(df.isnull().sum())\n"
      ],
      "metadata": {
        "colab": {
          "base_uri": "https://localhost:8080/"
        },
        "id": "3tb3gpOx8NdE",
        "outputId": "09343e19-83ce-4c4c-eb8a-9856eaedea2f"
      },
      "execution_count": 22,
      "outputs": [
        {
          "output_type": "stream",
          "name": "stdout",
          "text": [
            "\n",
            "The Data on The Engine Cylinders Column That Has A Missing Value:\n",
            "       Car Brand    Model  Year             Engine Fuel Type     HP  \\\n",
            "1983   chevrolet  bolt_ev  2017                     electric  200.0   \n",
            "1984   chevrolet  bolt_ev  2017                     electric  200.0   \n",
            "3716  volkswagen   e-golf  2015                     electric  115.0   \n",
            "3717  volkswagen   e-golf  2015                     electric  115.0   \n",
            "3718  volkswagen   e-golf  2016                     electric  115.0   \n",
            "3719  volkswagen   e-golf  2016                     electric  115.0   \n",
            "5778  mitsubishi   i-miev  2014                     electric    NaN   \n",
            "5779  mitsubishi   i-miev  2016                     electric   66.0   \n",
            "5780  mitsubishi   i-miev  2017                     electric   66.0   \n",
            "8373      toyota  rav4_ev  2012                     electric  154.0   \n",
            "8695       mazda     rx-7  1993             regular_unleaded  255.0   \n",
            "8696       mazda     rx-7  1994             regular_unleaded  255.0   \n",
            "8697       mazda     rx-7  1995             regular_unleaded  255.0   \n",
            "8698       mazda     rx-8  2009  premium_unleaded_(required)  232.0   \n",
            "8699       mazda     rx-8  2009  premium_unleaded_(required)  212.0   \n",
            "8700       mazda     rx-8  2009  premium_unleaded_(required)  232.0   \n",
            "8701       mazda     rx-8  2009  premium_unleaded_(required)  232.0   \n",
            "8702       mazda     rx-8  2009  premium_unleaded_(required)  232.0   \n",
            "8703       mazda     rx-8  2009  premium_unleaded_(required)  212.0   \n",
            "8704       mazda     rx-8  2009  premium_unleaded_(required)  212.0   \n",
            "8705       mazda     rx-8  2010  premium_unleaded_(required)  232.0   \n",
            "8706       mazda     rx-8  2010  premium_unleaded_(required)  212.0   \n",
            "8707       mazda     rx-8  2010  premium_unleaded_(required)  212.0   \n",
            "8708       mazda     rx-8  2010  premium_unleaded_(required)  232.0   \n",
            "8709       mazda     rx-8  2010  premium_unleaded_(required)  232.0   \n",
            "8710       mazda     rx-8  2011  premium_unleaded_(required)  212.0   \n",
            "8711       mazda     rx-8  2011  premium_unleaded_(required)  232.0   \n",
            "8712       mazda     rx-8  2011  premium_unleaded_(required)  232.0   \n",
            "8713       mazda     rx-8  2011  premium_unleaded_(required)  232.0   \n",
            "8714       mazda     rx-8  2011  premium_unleaded_(required)  212.0   \n",
            "\n",
            "      Engine Cylinders Transmission Type        Driven Mode Vehicle Size  \\\n",
            "1983               NaN      direct_drive  front_wheel_drive      compact   \n",
            "1984               NaN      direct_drive  front_wheel_drive      compact   \n",
            "3716               NaN      direct_drive  front_wheel_drive      compact   \n",
            "3717               NaN      direct_drive  front_wheel_drive      compact   \n",
            "3718               NaN      direct_drive  front_wheel_drive      compact   \n",
            "3719               NaN      direct_drive  front_wheel_drive      compact   \n",
            "5778               NaN      direct_drive   rear_wheel_drive      compact   \n",
            "5779               NaN      direct_drive   rear_wheel_drive      compact   \n",
            "5780               NaN      direct_drive   rear_wheel_drive      compact   \n",
            "8373               NaN      direct_drive  front_wheel_drive      midsize   \n",
            "8695               NaN            manual   rear_wheel_drive      compact   \n",
            "8696               NaN            manual   rear_wheel_drive      compact   \n",
            "8697               NaN            manual   rear_wheel_drive      compact   \n",
            "8698               NaN            manual   rear_wheel_drive      compact   \n",
            "8699               NaN         automatic   rear_wheel_drive      compact   \n",
            "8700               NaN            manual   rear_wheel_drive      compact   \n",
            "8701               NaN            manual   rear_wheel_drive      compact   \n",
            "8702               NaN            manual   rear_wheel_drive      compact   \n",
            "8703               NaN         automatic   rear_wheel_drive      compact   \n",
            "8704               NaN         automatic   rear_wheel_drive      compact   \n",
            "8705               NaN            manual   rear_wheel_drive      compact   \n",
            "8706               NaN         automatic   rear_wheel_drive      compact   \n",
            "8707               NaN         automatic   rear_wheel_drive      compact   \n",
            "8708               NaN            manual   rear_wheel_drive      compact   \n",
            "8709               NaN            manual   rear_wheel_drive      compact   \n",
            "8710               NaN         automatic   rear_wheel_drive      compact   \n",
            "8711               NaN            manual   rear_wheel_drive      compact   \n",
            "8712               NaN            manual   rear_wheel_drive      compact   \n",
            "8713               NaN            manual   rear_wheel_drive      compact   \n",
            "8714               NaN         automatic   rear_wheel_drive      compact   \n",
            "\n",
            "      Vehicle Style  Price  \n",
            "1983  4dr_hatchback  40905  \n",
            "1984  4dr_hatchback  36620  \n",
            "3716  4dr_hatchback  33450  \n",
            "3717  4dr_hatchback  35445  \n",
            "3718  4dr_hatchback  28995  \n",
            "3719  4dr_hatchback  35595  \n",
            "5778  4dr_hatchback  22995  \n",
            "5779  4dr_hatchback  22995  \n",
            "5780  4dr_hatchback  22995  \n",
            "8373        4dr_suv  49800  \n",
            "8695          coupe   7523  \n",
            "8696          coupe   8147  \n",
            "8697          coupe   8839  \n",
            "8698          coupe  31930  \n",
            "8699          coupe  26435  \n",
            "8700          coupe  27860  \n",
            "8701          coupe  31000  \n",
            "8702          coupe  26435  \n",
            "8703          coupe  31700  \n",
            "8704          coupe  28560  \n",
            "8705          coupe  32140  \n",
            "8706          coupe  26645  \n",
            "8707          coupe  32810  \n",
            "8708          coupe  26645  \n",
            "8709          coupe  32110  \n",
            "8710          coupe  32960  \n",
            "8711          coupe  32260  \n",
            "8712          coupe  32290  \n",
            "8713          coupe  26795  \n",
            "8714          coupe  26795  \n",
            "\n",
            "The Amount of Missing Value in Each Column After Handling Missing Value in The Engine Cylinders Column:\n",
            "Car Brand             0\n",
            "Model                 0\n",
            "Year                  0\n",
            "Engine Fuel Type      0\n",
            "HP                   56\n",
            "Engine Cylinders      0\n",
            "Transmission Type     0\n",
            "Driven Mode           0\n",
            "Vehicle Size          0\n",
            "Vehicle Style         0\n",
            "Price                 0\n",
            "dtype: int64\n"
          ]
        }
      ]
    },
    {
      "cell_type": "markdown",
      "source": [
        "##Checking the HP Column\n"
      ],
      "metadata": {
        "id": "msNyGVVK-gJ9"
      }
    },
    {
      "cell_type": "code",
      "source": [
        "print(\"\\nChecking the HP Column\")\n",
        "print(\"\\nThe Data on The HP Column That Has A Missing Value:\")\n",
        "print(df.loc[(df['HP'].isnull())])\n",
        "df.loc[(df['Car Brand'] == 'fiat') & (df['Model'] == '500e')] = df.loc[(df['Car Brand'] == 'fiat') & (df['Model'] == '500e')].fillna(111)\n",
        "df.loc[(df['Car Brand'] == 'lincoln') & (df['Model'] == 'continental')] = df.loc[(df['Car Brand'] == 'lincoln') & (df['Model'] == 'continental')].fillna(305)\n",
        "df.loc[(df['Car Brand'] == 'lincoln') & (df['Model'] == 'mkz')] = df.loc[(df['Car Brand'] == 'lincoln') & (df['Model'] == 'mkz')].fillna(245)\n",
        "df.loc[(df['Car Brand'] == 'ford') & (df['Model'] == 'escape')] = df.loc[(df['Car Brand'] == 'ford') & (df['Model'] == 'escape')].fillna(179)\n",
        "df.loc[(df['Car Brand'] == 'ford') & (df['Model'] == 'freestar')] = df.loc[(df['Car Brand'] == 'ford') & (df['Model'] == 'freestar')].fillna(201)\n",
        "df.loc[(df['Car Brand'] == 'ford') & (df['Model'] == 'focus')] = df.loc[(df['Car Brand'] == 'ford') & (df['Model'] == 'focus')].fillna(160)\n",
        "df.loc[(df['Car Brand'] == 'chevrolet') & (df['Model'] == 'impala')] = df.loc[(df['Car Brand'] == 'chevrolet') & (df['Model'] == 'impala')].fillna(305)\n",
        "df.loc[(df['Car Brand'] == 'nissan') & (df['Model'] == 'leaf')] = df.loc[(df['Car Brand'] == 'nissan') & (df['Model'] == 'leaf')].fillna(150)\n",
        "df.loc[(df['Car Brand'] == 'tesla') & (df['Model'] == 'model_s')] = df.loc[(df['Car Brand'] == 'tesla') & (df['Model'] == 'model_s')].fillna(1020)\n",
        "df.loc[(df['Car Brand'] == 'kia') & (df['Model'] == 'soul_ev')] = df.loc[(df['Car Brand'] == 'kia') & (df['Model'] == 'soul_ev')].fillna(109)\n",
        "df.loc[(df['Car Brand'] == 'toyota') & (df['Model'] == 'rav4_ev')] = df.loc[(df['Car Brand'] == 'toyota') & (df['Model'] == 'rav4_ev')].fillna(154)\n",
        "df.loc[(df['Car Brand'] == 'honda') & (df['Model'] == 'fit_ev')] = df.loc[(df['Car Brand'] == 'honda') & (df['Model'] == 'fit_ev')].fillna(123)\n",
        "df.loc[(df['Car Brand'] == 'mitsubishi') & (df['Model'] == 'i-miev')] = df.loc[(df['Car Brand'] == 'mitsubishi') & (df['Model'] == 'i-miev')].fillna(66)\n",
        "df.loc[(df['Car Brand'] == 'mercedes-benz') & (df['Model'] == 'm-class')] = df.loc[(df['Car Brand'] == 'mercedes-benz') & (df['Model'] == 'm-class')].fillna(200)\n",
        "print(\"\\nThe Amount of Missing Value in Each Column After Handling Missing Value in The HP Column:\")\n",
        "print(df.isnull().sum())"
      ],
      "metadata": {
        "colab": {
          "base_uri": "https://localhost:8080/"
        },
        "id": "xJYub1d88PJz",
        "outputId": "2315f82c-7d7f-4d3d-c5a1-584ab3c5afec"
      },
      "execution_count": 23,
      "outputs": [
        {
          "output_type": "stream",
          "name": "stdout",
          "text": [
            "\n",
            "Checking the HP Column\n",
            "\n",
            "The Data on The HP Column That Has A Missing Value:\n",
            "          Car Brand        Model  Year                  Engine Fuel Type  HP  \\\n",
            "539            fiat         500e  2015                          electric NaN   \n",
            "540            fiat         500e  2016                          electric NaN   \n",
            "541            fiat         500e  2017                          electric NaN   \n",
            "2905        lincoln  continental  2017    premium_unleaded_(recommended) NaN   \n",
            "2906        lincoln  continental  2017    premium_unleaded_(recommended) NaN   \n",
            "2907        lincoln  continental  2017    premium_unleaded_(recommended) NaN   \n",
            "2908        lincoln  continental  2017    premium_unleaded_(recommended) NaN   \n",
            "4203           ford       escape  2017                  regular_unleaded NaN   \n",
            "4204           ford       escape  2017                  regular_unleaded NaN   \n",
            "4205           ford       escape  2017                  regular_unleaded NaN   \n",
            "4206           ford       escape  2017                  regular_unleaded NaN   \n",
            "4705          honda       fit_ev  2013                          electric NaN   \n",
            "4706          honda       fit_ev  2014                          electric NaN   \n",
            "4785           ford        focus  2015                          electric NaN   \n",
            "4789           ford        focus  2016                          electric NaN   \n",
            "4798           ford        focus  2017                          electric NaN   \n",
            "4914           ford     freestar  2005                  regular_unleaded NaN   \n",
            "4915           ford     freestar  2005                  regular_unleaded NaN   \n",
            "4916           ford     freestar  2005                  regular_unleaded NaN   \n",
            "4917           ford     freestar  2005                  regular_unleaded NaN   \n",
            "4918           ford     freestar  2005                  regular_unleaded NaN   \n",
            "4919           ford     freestar  2005                  regular_unleaded NaN   \n",
            "5778     mitsubishi       i-miev  2014                          electric NaN   \n",
            "5825      chevrolet       impala  2015  flex-fuel_(unleaded/natural_gas) NaN   \n",
            "5830      chevrolet       impala  2015  flex-fuel_(unleaded/natural_gas) NaN   \n",
            "5831      chevrolet       impala  2016  flex-fuel_(unleaded/natural_gas) NaN   \n",
            "5833      chevrolet       impala  2016  flex-fuel_(unleaded/natural_gas) NaN   \n",
            "5839      chevrolet       impala  2017  flex-fuel_(unleaded/natural_gas) NaN   \n",
            "5840      chevrolet       impala  2017  flex-fuel_(unleaded/natural_gas) NaN   \n",
            "6385         nissan         leaf  2014                          electric NaN   \n",
            "6386         nissan         leaf  2014                          electric NaN   \n",
            "6387         nissan         leaf  2014                          electric NaN   \n",
            "6388         nissan         leaf  2015                          electric NaN   \n",
            "6389         nissan         leaf  2015                          electric NaN   \n",
            "6390         nissan         leaf  2015                          electric NaN   \n",
            "6391         nissan         leaf  2015                          electric NaN   \n",
            "6392         nissan         leaf  2016                          electric NaN   \n",
            "6393         nissan         leaf  2016                          electric NaN   \n",
            "6394         nissan         leaf  2016                          electric NaN   \n",
            "6578  mercedes-benz      m-class  2015                            diesel NaN   \n",
            "6908        lincoln          mkz  2017                  regular_unleaded NaN   \n",
            "6910        lincoln          mkz  2017                  regular_unleaded NaN   \n",
            "6916        lincoln          mkz  2017                  regular_unleaded NaN   \n",
            "6918        lincoln          mkz  2017                  regular_unleaded NaN   \n",
            "6922          tesla      model_s  2014                          electric NaN   \n",
            "6925          tesla      model_s  2015                          electric NaN   \n",
            "6931          tesla      model_s  2016                          electric NaN   \n",
            "6934          tesla      model_s  2016                          electric NaN   \n",
            "6938          tesla      model_s  2016                          electric NaN   \n",
            "8374         toyota      rav4_ev  2013                          electric NaN   \n",
            "8375         toyota      rav4_ev  2014                          electric NaN   \n",
            "9850            kia      soul_ev  2015                          electric NaN   \n",
            "9851            kia      soul_ev  2015                          electric NaN   \n",
            "9852            kia      soul_ev  2016                          electric NaN   \n",
            "9853            kia      soul_ev  2016                          electric NaN   \n",
            "9854            kia      soul_ev  2016                          electric NaN   \n",
            "\n",
            "      Engine Cylinders Transmission Type        Driven Mode Vehicle Size  \\\n",
            "539                0.0      direct_drive  front_wheel_drive      compact   \n",
            "540                0.0      direct_drive  front_wheel_drive      compact   \n",
            "541                0.0      direct_drive  front_wheel_drive      compact   \n",
            "2905               6.0         automatic    all_wheel_drive        large   \n",
            "2906               6.0         automatic  front_wheel_drive        large   \n",
            "2907               6.0         automatic  front_wheel_drive        large   \n",
            "2908               6.0         automatic    all_wheel_drive        large   \n",
            "4203               4.0         automatic  front_wheel_drive      compact   \n",
            "4204               4.0         automatic    all_wheel_drive      compact   \n",
            "4205               4.0         automatic    all_wheel_drive      compact   \n",
            "4206               4.0         automatic  front_wheel_drive      compact   \n",
            "4705               0.0      direct_drive  front_wheel_drive      compact   \n",
            "4706               0.0      direct_drive  front_wheel_drive      compact   \n",
            "4785               0.0      direct_drive  front_wheel_drive      compact   \n",
            "4789               0.0      direct_drive  front_wheel_drive      compact   \n",
            "4798               0.0      direct_drive  front_wheel_drive      compact   \n",
            "4914               6.0         automatic  front_wheel_drive      midsize   \n",
            "4915               6.0         automatic  front_wheel_drive      midsize   \n",
            "4916               6.0         automatic  front_wheel_drive      midsize   \n",
            "4917               6.0         automatic  front_wheel_drive      midsize   \n",
            "4918               6.0         automatic  front_wheel_drive      midsize   \n",
            "4919               6.0         automatic  front_wheel_drive      midsize   \n",
            "5778               0.0      direct_drive   rear_wheel_drive      compact   \n",
            "5825               6.0         automatic  front_wheel_drive        large   \n",
            "5830               6.0         automatic  front_wheel_drive        large   \n",
            "5831               6.0         automatic  front_wheel_drive        large   \n",
            "5833               6.0         automatic  front_wheel_drive        large   \n",
            "5839               6.0         automatic  front_wheel_drive        large   \n",
            "5840               6.0         automatic  front_wheel_drive        large   \n",
            "6385               0.0      direct_drive  front_wheel_drive      compact   \n",
            "6386               0.0      direct_drive  front_wheel_drive      compact   \n",
            "6387               0.0      direct_drive  front_wheel_drive      compact   \n",
            "6388               0.0      direct_drive  front_wheel_drive      compact   \n",
            "6389               0.0      direct_drive  front_wheel_drive      compact   \n",
            "6390               0.0      direct_drive  front_wheel_drive      compact   \n",
            "6391               0.0      direct_drive  front_wheel_drive      compact   \n",
            "6392               0.0      direct_drive  front_wheel_drive      compact   \n",
            "6393               0.0      direct_drive  front_wheel_drive      compact   \n",
            "6394               0.0      direct_drive  front_wheel_drive      compact   \n",
            "6578               4.0         automatic    all_wheel_drive      midsize   \n",
            "6908               4.0         automatic  front_wheel_drive      midsize   \n",
            "6910               4.0         automatic  front_wheel_drive      midsize   \n",
            "6916               4.0         automatic  front_wheel_drive      midsize   \n",
            "6918               4.0         automatic  front_wheel_drive      midsize   \n",
            "6922               0.0      direct_drive   rear_wheel_drive        large   \n",
            "6925               0.0      direct_drive   rear_wheel_drive        large   \n",
            "6931               0.0      direct_drive    all_wheel_drive        large   \n",
            "6934               0.0      direct_drive    all_wheel_drive        large   \n",
            "6938               0.0      direct_drive   rear_wheel_drive        large   \n",
            "8374               0.0      direct_drive  front_wheel_drive      midsize   \n",
            "8375               0.0      direct_drive  front_wheel_drive      midsize   \n",
            "9850               0.0      direct_drive  front_wheel_drive      compact   \n",
            "9851               0.0      direct_drive  front_wheel_drive      compact   \n",
            "9852               0.0      direct_drive  front_wheel_drive      compact   \n",
            "9853               0.0      direct_drive  front_wheel_drive      compact   \n",
            "9854               0.0      direct_drive  front_wheel_drive      compact   \n",
            "\n",
            "          Vehicle Style  Price  \n",
            "539       2dr_hatchback  31800  \n",
            "540       2dr_hatchback  31800  \n",
            "541       2dr_hatchback  31800  \n",
            "2905              sedan  55915  \n",
            "2906              sedan  62915  \n",
            "2907              sedan  53915  \n",
            "2908              sedan  64915  \n",
            "4203            4dr_suv  29100  \n",
            "4204            4dr_suv  30850  \n",
            "4205            4dr_suv  26850  \n",
            "4206            4dr_suv  25100  \n",
            "4705      4dr_hatchback  36625  \n",
            "4706      4dr_hatchback  36625  \n",
            "4785      4dr_hatchback  29170  \n",
            "4789      4dr_hatchback  29170  \n",
            "4798      4dr_hatchback  29120  \n",
            "4914  passenger_minivan  28030  \n",
            "4915  passenger_minivan  23930  \n",
            "4916      cargo_minivan  21630  \n",
            "4917  passenger_minivan  26530  \n",
            "4918  passenger_minivan  29030  \n",
            "4919  passenger_minivan  32755  \n",
            "5778      4dr_hatchback  22995  \n",
            "5825              sedan  40660  \n",
            "5830              sedan  37535  \n",
            "5831              sedan  40810  \n",
            "5833              sedan  37570  \n",
            "5839              sedan  37675  \n",
            "5840              sedan  40915  \n",
            "6385      4dr_hatchback  35020  \n",
            "6386      4dr_hatchback  32000  \n",
            "6387      4dr_hatchback  28980  \n",
            "6388      4dr_hatchback  32100  \n",
            "6389      4dr_hatchback  35120  \n",
            "6390      4dr_hatchback  29010  \n",
            "6391      4dr_hatchback  32000  \n",
            "6392      4dr_hatchback  29010  \n",
            "6393      4dr_hatchback  34200  \n",
            "6394      4dr_hatchback  36790  \n",
            "6578            4dr_suv  49800  \n",
            "6908              sedan  35010  \n",
            "6910              sedan  39510  \n",
            "6916              sedan  36760  \n",
            "6918              sedan  47670  \n",
            "6922              sedan  69900  \n",
            "6925              sedan  69900  \n",
            "6931              sedan  66000  \n",
            "6934              sedan  71000  \n",
            "6938              sedan  70000  \n",
            "8374            4dr_suv  49800  \n",
            "8375            4dr_suv  49800  \n",
            "9850              wagon  35700  \n",
            "9851              wagon  33700  \n",
            "9852              wagon  33950  \n",
            "9853              wagon  31950  \n",
            "9854              wagon  35950  \n",
            "\n",
            "The Amount of Missing Value in Each Column After Handling Missing Value in The HP Column:\n",
            "Car Brand            0\n",
            "Model                0\n",
            "Year                 0\n",
            "Engine Fuel Type     0\n",
            "HP                   0\n",
            "Engine Cylinders     0\n",
            "Transmission Type    0\n",
            "Driven Mode          0\n",
            "Vehicle Size         0\n",
            "Vehicle Style        0\n",
            "Price                0\n",
            "dtype: int64\n"
          ]
        }
      ]
    },
    {
      "cell_type": "markdown",
      "source": [
        "##Removing Duplicated Data\n"
      ],
      "metadata": {
        "id": "3Tb9KuS7-jC8"
      }
    },
    {
      "cell_type": "code",
      "source": [
        "print(\"\\nRemoving Duplicated Data\")\n",
        "df.drop_duplicates(inplace=True)\n",
        "print('\\nThe Shape of The Data After Removing The Duplicated Data: ', df.shape)"
      ],
      "metadata": {
        "colab": {
          "base_uri": "https://localhost:8080/"
        },
        "id": "7oCeVTAS8SJD",
        "outputId": "f004ea9e-b28f-4685-c9d5-cd9d32e84462"
      },
      "execution_count": 24,
      "outputs": [
        {
          "output_type": "stream",
          "name": "stdout",
          "text": [
            "\n",
            "Removing Duplicated Data\n",
            "\n",
            "The Shape of The Data After Removing The Duplicated Data:  (10189, 11)\n"
          ]
        }
      ]
    },
    {
      "cell_type": "markdown",
      "source": [
        "##Label Encoding on The Dataset\n"
      ],
      "metadata": {
        "id": "nKJxyBLN-o67"
      }
    },
    {
      "cell_type": "code",
      "source": [
        "print(\"\\nLabel Encoding on The Dataset\")\n",
        "car_brand = pd.get_dummies(df['Car Brand'], drop_first=True)\n",
        "model = pd.get_dummies(df['Model'], drop_first=True)\n",
        "engine_fuel_type = pd.get_dummies(df['Engine Fuel Type'], drop_first=True)\n",
        "transmission_type = pd.get_dummies(df['Transmission Type'], drop_first=True)\n",
        "driven_mode = pd.get_dummies(df['Driven Mode'], drop_first=True)\n",
        "vehicle_size = pd.get_dummies(df['Vehicle Size'], drop_first=True)\n",
        "vehicle_style = pd.get_dummies(df['Vehicle Style'], drop_first=True)\n"
      ],
      "metadata": {
        "colab": {
          "base_uri": "https://localhost:8080/"
        },
        "id": "oy8kFVVv8UJi",
        "outputId": "11b0f59c-bbb4-4317-fbed-581d40600bd8"
      },
      "execution_count": 25,
      "outputs": [
        {
          "output_type": "stream",
          "name": "stdout",
          "text": [
            "\n",
            "Label Encoding on The Dataset\n"
          ]
        }
      ]
    },
    {
      "cell_type": "code",
      "source": [
        "df = df.drop(['Car Brand',\n",
        "              'Model',\n",
        "              'Engine Fuel Type',\n",
        "              'Transmission Type',\n",
        "              'Driven Mode',\n",
        "              'Vehicle Size',\n",
        "              'Vehicle Style'], axis=1)"
      ],
      "metadata": {
        "id": "TCSBQfv58Ylj"
      },
      "execution_count": 26,
      "outputs": []
    },
    {
      "cell_type": "code",
      "source": [
        "df = pd.concat([car_brand,\n",
        "                model,\n",
        "                engine_fuel_type,\n",
        "                transmission_type,\n",
        "                driven_mode,\n",
        "                vehicle_size,\n",
        "                vehicle_style,\n",
        "                df], axis=1)"
      ],
      "metadata": {
        "id": "n7MpXdLW8aP4"
      },
      "execution_count": 27,
      "outputs": []
    },
    {
      "cell_type": "markdown",
      "source": [
        "##Separating Features and Labels\n"
      ],
      "metadata": {
        "id": "ZNrA4k_X-3ne"
      }
    },
    {
      "cell_type": "code",
      "source": [
        "X = df.drop('Price', axis=1)\n",
        "y = df['Price']"
      ],
      "metadata": {
        "id": "MXx-ibJ98boV"
      },
      "execution_count": 28,
      "outputs": []
    },
    {
      "cell_type": "markdown",
      "source": [
        "##Preparing Training, Testing, And Validating Dataset\n"
      ],
      "metadata": {
        "id": "hTGI7dCD-6fB"
      }
    },
    {
      "cell_type": "code",
      "source": [
        "from sklearn.model_selection import train_test_split\n",
        "X_train_full, X_test, y_train_full, y_test = train_test_split(X, y, test_size=0.2, random_state=42)\n",
        "X_train, X_val, y_train, y_val = train_test_split(X_train_full, y_train_full, test_size=0.2, random_state=42)\n"
      ],
      "metadata": {
        "id": "BownGUC48dQX"
      },
      "execution_count": 29,
      "outputs": []
    },
    {
      "cell_type": "markdown",
      "source": [
        "##Build a Machine Learning Model LinearRegression\n"
      ],
      "metadata": {
        "id": "lI_86IoJ-89N"
      }
    },
    {
      "cell_type": "code",
      "source": [
        "from sklearn.linear_model import LinearRegression\n",
        "model_linreg = LinearRegression()\n",
        "model_linreg = model_linreg.fit(X_train, y_train)\n",
        "y_pred_linreg = model_linreg.predict(X_test)\n"
      ],
      "metadata": {
        "id": "l8sG9J_q8fjq"
      },
      "execution_count": 30,
      "outputs": []
    },
    {
      "cell_type": "markdown",
      "source": [
        "##Evaluating The Machine Learning Model\n"
      ],
      "metadata": {
        "id": "TANYpiqp-_sH"
      }
    },
    {
      "cell_type": "code",
      "source": [
        "from sklearn.metrics import mean_squared_error, mean_absolute_error\n",
        "import numpy as np\n"
      ],
      "metadata": {
        "id": "osBqCs_J8hPY"
      },
      "execution_count": 31,
      "outputs": []
    },
    {
      "cell_type": "markdown",
      "source": [
        "##Mean Squared Error\n"
      ],
      "metadata": {
        "id": "HJlmfR0x_Bw0"
      }
    },
    {
      "cell_type": "code",
      "source": [
        "mse = mean_squared_error(y_test, y_pred_linreg)\n",
        "print('\\nMean squared error dari Testing Set:', round(mse))"
      ],
      "metadata": {
        "colab": {
          "base_uri": "https://localhost:8080/"
        },
        "id": "j3hdavAK8i7W",
        "outputId": "90368823-74da-4d23-b66e-34c5a3d1d869"
      },
      "execution_count": 32,
      "outputs": [
        {
          "output_type": "stream",
          "name": "stdout",
          "text": [
            "\n",
            "Mean squared error dari Testing Set: 128290358883524536172544\n"
          ]
        }
      ]
    },
    {
      "cell_type": "markdown",
      "source": [
        "##Mean Absolute Error\n"
      ],
      "metadata": {
        "id": "yGWnPSlf_Ee3"
      }
    },
    {
      "cell_type": "code",
      "source": [
        "mae = mean_absolute_error(y_test, y_pred_linreg)\n",
        "print('Mean absolute error dari Testing Set:', round(mae))"
      ],
      "metadata": {
        "colab": {
          "base_uri": "https://localhost:8080/"
        },
        "id": "j0IQ5n518kza",
        "outputId": "b5e595fa-390f-471f-a9b7-a689e403d92f"
      },
      "execution_count": 33,
      "outputs": [
        {
          "output_type": "stream",
          "name": "stdout",
          "text": [
            "Mean absolute error dari Testing Set: 12073471821\n"
          ]
        }
      ]
    },
    {
      "cell_type": "markdown",
      "source": [
        "##Root Mean Squared Error\n"
      ],
      "metadata": {
        "id": "NhDGL96M_Icx"
      }
    },
    {
      "cell_type": "code",
      "source": [
        "rmse = np.sqrt(mse)\n",
        "print('Root Mean Squared Error dari Testing Set:', round(rmse))"
      ],
      "metadata": {
        "colab": {
          "base_uri": "https://localhost:8080/"
        },
        "id": "y-bfsmll8nDf",
        "outputId": "efd4a3b2-8d29-4a78-9a0c-0d829d66f9f7"
      },
      "execution_count": 34,
      "outputs": [
        {
          "output_type": "stream",
          "name": "stdout",
          "text": [
            "Root Mean Squared Error dari Testing Set: 358176435411\n"
          ]
        }
      ]
    },
    {
      "cell_type": "markdown",
      "source": [
        "##Build a Machine Learning Model DecisionTree"
      ],
      "metadata": {
        "id": "aGsCgAYo_KUK"
      }
    },
    {
      "cell_type": "code",
      "source": [
        "from sklearn.tree import DecisionTreeRegressor\n",
        "model_dtr = DecisionTreeRegressor(random_state=42)\n",
        "model_dtr = model_dtr.fit(X_train, y_train)\n",
        "y_pred_dtr = model_dtr.predict(X_test)\n"
      ],
      "metadata": {
        "id": "VVP3rqw38ohV"
      },
      "execution_count": 35,
      "outputs": []
    },
    {
      "cell_type": "markdown",
      "source": [
        "##Evaluating The Machine Learning Model\n"
      ],
      "metadata": {
        "id": "nNIS6ifB_OEI"
      }
    },
    {
      "cell_type": "code",
      "source": [
        "from sklearn.metrics import mean_squared_error, mean_absolute_error\n",
        "import numpy as np\n"
      ],
      "metadata": {
        "id": "Nd8KAJWb8qLX"
      },
      "execution_count": 36,
      "outputs": []
    },
    {
      "cell_type": "markdown",
      "source": [
        "##Mean Squared Error\n"
      ],
      "metadata": {
        "id": "dyBJOc8s_QdA"
      }
    },
    {
      "cell_type": "code",
      "source": [
        "mse = mean_squared_error(y_test, y_pred_dtr)\n",
        "print('\\nMean squared error dari Testing Set:', round(mse))\n"
      ],
      "metadata": {
        "colab": {
          "base_uri": "https://localhost:8080/"
        },
        "id": "waba0oPY8tS9",
        "outputId": "e857b195-5a98-4e1e-f281-b1f34f180329"
      },
      "execution_count": 37,
      "outputs": [
        {
          "output_type": "stream",
          "name": "stdout",
          "text": [
            "\n",
            "Mean squared error dari Testing Set: 16094808\n"
          ]
        }
      ]
    },
    {
      "cell_type": "markdown",
      "source": [
        "##Mean Absolute Error\n"
      ],
      "metadata": {
        "id": "5T-eRP3X_SWE"
      }
    },
    {
      "cell_type": "code",
      "source": [
        "mae = mean_absolute_error(y_test, y_pred_dtr)\n",
        "print('Mean absolute error dari Testing Set:', round(mae))\n"
      ],
      "metadata": {
        "colab": {
          "base_uri": "https://localhost:8080/"
        },
        "id": "TRkl48TN8vD_",
        "outputId": "3b4fc940-8f41-499d-898d-6ab6cc312335"
      },
      "execution_count": 38,
      "outputs": [
        {
          "output_type": "stream",
          "name": "stdout",
          "text": [
            "Mean absolute error dari Testing Set: 2667\n"
          ]
        }
      ]
    },
    {
      "cell_type": "markdown",
      "source": [
        "##Root Mean Squared Error\n"
      ],
      "metadata": {
        "id": "ZQi-pb0A_VD_"
      }
    },
    {
      "cell_type": "code",
      "source": [
        "rmse = np.sqrt(mse)\n",
        "print('Root Mean Squared Error dari Testing Set:', round(rmse))"
      ],
      "metadata": {
        "colab": {
          "base_uri": "https://localhost:8080/"
        },
        "id": "ZBswtCO98wh4",
        "outputId": "73e5165c-d008-4958-bbd1-f635b8ab57eb"
      },
      "execution_count": 39,
      "outputs": [
        {
          "output_type": "stream",
          "name": "stdout",
          "text": [
            "Root Mean Squared Error dari Testing Set: 4012\n"
          ]
        }
      ]
    },
    {
      "cell_type": "markdown",
      "source": [
        "##Build a Machine Learning Model RandomForest\n"
      ],
      "metadata": {
        "id": "KJIy9pMV_XW0"
      }
    },
    {
      "cell_type": "code",
      "source": [
        "from sklearn.ensemble import RandomForestRegressor\n",
        "model_rfr = RandomForestRegressor(random_state=42)\n",
        "model_rfr = model_rfr.fit(X_train, y_train)\n",
        "y_pred_rfr = model_rfr.predict(X_test)"
      ],
      "metadata": {
        "id": "0aq4189S8yEB"
      },
      "execution_count": 40,
      "outputs": []
    },
    {
      "cell_type": "markdown",
      "source": [
        "##Evaluating The Machine Learning Model\n"
      ],
      "metadata": {
        "id": "8LZAgcC5_Zb0"
      }
    },
    {
      "cell_type": "code",
      "source": [
        "from sklearn.metrics import mean_squared_error, mean_absolute_error\n",
        "import numpy as np"
      ],
      "metadata": {
        "id": "91jv5CvF8z6A"
      },
      "execution_count": 41,
      "outputs": []
    },
    {
      "cell_type": "markdown",
      "source": [
        "##Mean Squared Error\n"
      ],
      "metadata": {
        "id": "KHdqK-O9_eAz"
      }
    },
    {
      "cell_type": "code",
      "source": [
        "mse = mean_squared_error(y_test, y_pred_rfr)\n",
        "print('\\nMean squared error dari Testing Set:', round(mse))"
      ],
      "metadata": {
        "colab": {
          "base_uri": "https://localhost:8080/"
        },
        "id": "l6JFtD5x814v",
        "outputId": "801bdf97-7e8a-4716-a499-5b32ba809d82"
      },
      "execution_count": 42,
      "outputs": [
        {
          "output_type": "stream",
          "name": "stdout",
          "text": [
            "\n",
            "Mean squared error dari Testing Set: 12398483\n"
          ]
        }
      ]
    },
    {
      "cell_type": "markdown",
      "source": [
        "##Mean Absolute Error\n"
      ],
      "metadata": {
        "id": "BhyMWaiW_f5K"
      }
    },
    {
      "cell_type": "code",
      "source": [
        "mae = mean_absolute_error(y_test, y_pred_rfr)\n",
        "print('Mean absolute error dari Testing Set:', round(mae))"
      ],
      "metadata": {
        "colab": {
          "base_uri": "https://localhost:8080/"
        },
        "id": "iUFW0YLP83mP",
        "outputId": "d04883fe-23bd-40ef-8e6c-c1cf90118102"
      },
      "execution_count": 43,
      "outputs": [
        {
          "output_type": "stream",
          "name": "stdout",
          "text": [
            "Mean absolute error dari Testing Set: 2380\n"
          ]
        }
      ]
    },
    {
      "cell_type": "markdown",
      "source": [
        "##Root Mean Squared Error\n"
      ],
      "metadata": {
        "id": "LecZbqS__hru"
      }
    },
    {
      "cell_type": "code",
      "source": [
        "rmse = np.sqrt(mse)\n",
        "print('Root Mean Squared Error dari Testing Set:', round(rmse))"
      ],
      "metadata": {
        "colab": {
          "base_uri": "https://localhost:8080/"
        },
        "id": "HaIzPbIN85yF",
        "outputId": "883b9224-eb78-43f5-8b80-6933e0905ccc"
      },
      "execution_count": 44,
      "outputs": [
        {
          "output_type": "stream",
          "name": "stdout",
          "text": [
            "Root Mean Squared Error dari Testing Set: 3521\n"
          ]
        }
      ]
    },
    {
      "cell_type": "markdown",
      "source": [
        "##Build a Machine Learning Model Lasso\n"
      ],
      "metadata": {
        "id": "7vrybn8T_jnL"
      }
    },
    {
      "cell_type": "code",
      "source": [
        "from sklearn.linear_model import Lasso\n",
        "model_lasso = Lasso(random_state=42)\n",
        "model_lasso = model_lasso.fit(X_train, y_train)\n",
        "y_pred_lasso = model_lasso.predict(X_test)"
      ],
      "metadata": {
        "id": "U8Fw65xQ87aI"
      },
      "execution_count": 45,
      "outputs": []
    },
    {
      "cell_type": "markdown",
      "source": [
        "##Evaluating The Machine Learning Model\n"
      ],
      "metadata": {
        "id": "_oFj7ICS_lwk"
      }
    },
    {
      "cell_type": "code",
      "source": [
        "from sklearn.metrics import mean_squared_error, mean_absolute_error\n",
        "import numpy as np"
      ],
      "metadata": {
        "id": "4pXDnrWB89KL"
      },
      "execution_count": 46,
      "outputs": []
    },
    {
      "cell_type": "markdown",
      "source": [
        "##Mean Squared Error\n"
      ],
      "metadata": {
        "id": "vD-JloOQ_nuk"
      }
    },
    {
      "cell_type": "code",
      "source": [
        "mse = mean_squared_error(y_test, y_pred_lasso)\n",
        "print('\\nMean squared error dari Testing Set:', round(mse))\n"
      ],
      "metadata": {
        "colab": {
          "base_uri": "https://localhost:8080/"
        },
        "id": "8jbr2g1W8_Tl",
        "outputId": "fb47d394-7e95-4b98-c8b1-321bdc1cc7f3"
      },
      "execution_count": 47,
      "outputs": [
        {
          "output_type": "stream",
          "name": "stdout",
          "text": [
            "\n",
            "Mean squared error dari Testing Set: 13948854\n"
          ]
        }
      ]
    },
    {
      "cell_type": "markdown",
      "source": [
        "##Mean Absolute Error\n"
      ],
      "metadata": {
        "id": "On7tm6Kd_qYC"
      }
    },
    {
      "cell_type": "code",
      "source": [
        "mae = mean_absolute_error(y_test, y_pred_lasso)\n",
        "print('Mean absolute error dari Testing Set:', round(mae))\n"
      ],
      "metadata": {
        "colab": {
          "base_uri": "https://localhost:8080/"
        },
        "id": "rs_Yaxyt9A7L",
        "outputId": "a6d76fde-e5e2-4acc-fa42-402ca4ddd043"
      },
      "execution_count": 48,
      "outputs": [
        {
          "output_type": "stream",
          "name": "stdout",
          "text": [
            "Mean absolute error dari Testing Set: 2789\n"
          ]
        }
      ]
    },
    {
      "cell_type": "markdown",
      "source": [
        "##Root Mean Squared Error\n"
      ],
      "metadata": {
        "id": "ntmiSieO_sJv"
      }
    },
    {
      "cell_type": "code",
      "source": [
        "rmse = np.sqrt(mse)\n",
        "print('Root Mean Squared Error dari Testing Set:', round(rmse))"
      ],
      "metadata": {
        "colab": {
          "base_uri": "https://localhost:8080/"
        },
        "id": "8YBxXceo9CUp",
        "outputId": "1ee2ae18-9c9a-42f9-d627-fa1803cad0f4"
      },
      "execution_count": 49,
      "outputs": [
        {
          "output_type": "stream",
          "name": "stdout",
          "text": [
            "Root Mean Squared Error dari Testing Set: 3735\n"
          ]
        }
      ]
    },
    {
      "cell_type": "markdown",
      "source": [
        "##Build a Machine Learning Model Ridge\n"
      ],
      "metadata": {
        "id": "AZjx_Jpo_t6h"
      }
    },
    {
      "cell_type": "code",
      "source": [
        "from sklearn.linear_model import Ridge\n",
        "model_ridge = Ridge(random_state=42)\n",
        "model_ridge = model_ridge.fit(X_train, y_train)\n",
        "y_pred_ridge = model_ridge.predict(X_test)\n"
      ],
      "metadata": {
        "id": "aB9uFaRm9D2R"
      },
      "execution_count": 50,
      "outputs": []
    },
    {
      "cell_type": "markdown",
      "source": [
        "##Evaluating The Machine Learning Model\n"
      ],
      "metadata": {
        "id": "ef_RQsro_wgG"
      }
    },
    {
      "cell_type": "code",
      "source": [
        "from sklearn.metrics import mean_squared_error, mean_absolute_error\n",
        "import numpy as np"
      ],
      "metadata": {
        "id": "apNfP3y99FZV"
      },
      "execution_count": 51,
      "outputs": []
    },
    {
      "cell_type": "markdown",
      "source": [
        "##Mean Squared Error\n"
      ],
      "metadata": {
        "id": "fyfPJOQ7_yd7"
      }
    },
    {
      "cell_type": "code",
      "source": [
        "mse = mean_squared_error(y_test, y_pred_ridge)\n",
        "print('\\nMean squared error dari Testing Set:', round(mse))"
      ],
      "metadata": {
        "colab": {
          "base_uri": "https://localhost:8080/"
        },
        "id": "VHmgsMFJ9HK8",
        "outputId": "e6b159f5-793a-47e9-c219-db77f73d4945"
      },
      "execution_count": 52,
      "outputs": [
        {
          "output_type": "stream",
          "name": "stdout",
          "text": [
            "\n",
            "Mean squared error dari Testing Set: 13800444\n"
          ]
        }
      ]
    },
    {
      "cell_type": "markdown",
      "source": [
        "##Mean Absolute Error\n"
      ],
      "metadata": {
        "id": "lpJm_6Qx_0Cd"
      }
    },
    {
      "cell_type": "code",
      "source": [
        "mae = mean_absolute_error(y_test, y_pred_ridge)\n",
        "print('Mean absolute error dari Testing Set:', round(mae))"
      ],
      "metadata": {
        "colab": {
          "base_uri": "https://localhost:8080/"
        },
        "id": "IaeyJOzW9JCz",
        "outputId": "9ace49c3-ec1d-40bd-84dc-9154ac1f3488"
      },
      "execution_count": 53,
      "outputs": [
        {
          "output_type": "stream",
          "name": "stdout",
          "text": [
            "Mean absolute error dari Testing Set: 2763\n"
          ]
        }
      ]
    },
    {
      "cell_type": "markdown",
      "source": [
        "##Root Mean Squared Error\n"
      ],
      "metadata": {
        "id": "LoCJqD4k_1vW"
      }
    },
    {
      "cell_type": "code",
      "source": [
        "rmse = np.sqrt(mse)\n",
        "print('Root Mean Squared Error dari Testing Set:', round(rmse))"
      ],
      "metadata": {
        "colab": {
          "base_uri": "https://localhost:8080/"
        },
        "id": "cQlovvus9LBR",
        "outputId": "de2b7902-9e0f-47e4-cfcf-6dc44559e955"
      },
      "execution_count": 54,
      "outputs": [
        {
          "output_type": "stream",
          "name": "stdout",
          "text": [
            "Root Mean Squared Error dari Testing Set: 3715\n"
          ]
        }
      ]
    },
    {
      "cell_type": "markdown",
      "source": [
        "##Visualize The Machine Learning Model\n"
      ],
      "metadata": {
        "id": "DR6q3EP1_3ev"
      }
    },
    {
      "cell_type": "code",
      "source": [
        "fig = plt.figure(figsize=(17, 10))\n",
        "df = df.sort_values(by=['Price'])\n",
        "X = df.drop('Price', axis=1)\n",
        "y = df['Price']\n",
        "plt.scatter(range(X.shape[0]), model_linreg.predict(X), marker='.', label='Predict')\n",
        "plt.scatter(range(X.shape[0]), y, color='red', label='Real')\n",
        "plt.legend(loc='best', prop={'size': 10})\n",
        "plt.show()"
      ],
      "metadata": {
        "colab": {
          "base_uri": "https://localhost:8080/",
          "height": 602
        },
        "id": "zDkdk1T99MXM",
        "outputId": "b484ecaf-a080-4d66-ca3b-46e1072574ff"
      },
      "execution_count": 55,
      "outputs": [
        {
          "output_type": "display_data",
          "data": {
            "text/plain": [
              "<Figure size 1224x720 with 1 Axes>"
            ],
            "image/png": "[encoded data removed]"
          },
          "metadata": {
            "needs_background": "light"
          }
        }
      ]
    },
    {
      "cell_type": "markdown",
      "source": [
        "##Validating The Machine Learning Model\n"
      ],
      "metadata": {
        "id": "aZDSyOUs_5rQ"
      }
    },
    {
      "cell_type": "code",
      "source": [
        "for i in range(5):\n",
        "    real = y_val.iloc[i]\n",
        "    pred = int(model_linreg.predict(X_val.iloc[i].to_frame().T)[0])\n",
        "    print(f'Real Value      ----->>>>> {real} $\\n'\n",
        "          f'Predicted Value ----->>>>> {pred} $')\n",
        "    print()"
      ],
      "metadata": {
        "colab": {
          "base_uri": "https://localhost:8080/"
        },
        "id": "83WZSJ5r9QcN",
        "outputId": "ca97b8d4-2e75-4638-de4d-5f4daee015b5"
      },
      "execution_count": 56,
      "outputs": [
        {
          "output_type": "stream",
          "name": "stdout",
          "text": [
            "Real Value      ----->>>>> 15535 $\n",
            "Predicted Value ----->>>>> 14647 $\n",
            "\n",
            "Real Value      ----->>>>> 24080 $\n",
            "Predicted Value ----->>>>> 26528 $\n",
            "\n",
            "Real Value      ----->>>>> 28230 $\n",
            "Predicted Value ----->>>>> 30781 $\n",
            "\n",
            "Real Value      ----->>>>> 23390 $\n",
            "Predicted Value ----->>>>> 26069 $\n",
            "\n",
            "Real Value      ----->>>>> 20475 $\n",
            "Predicted Value ----->>>>> 20876 $\n",
            "\n"
          ]
        }
      ]
    },
    {
      "cell_type": "code",
      "source": [],
      "metadata": {
        "id": "6pCXh74R9SNM"
      },
      "execution_count": null,
      "outputs": []
    }
  ]
}